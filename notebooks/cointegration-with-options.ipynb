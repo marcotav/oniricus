{
 "cells": [
  {
   "cell_type": "markdown",
   "metadata": {},
   "source": [
    "# Option Pricing with Cointegrated Assets - Concepts\n",
    "\n",
    "### Notebook by [Marco Tavora](https://marcotavora.me/)\n",
    "\n",
    "## Table of contents\n",
    "\n",
    "1. [Introduction](#Introduction)\n",
    "2. [Conceptual Bird's Eye Review](#Conceptual-Bird's-Eye-Review)\n",
    "\n",
    "## Introduction\n",
    "[[go back to the top]](#Table-of-contents)\n",
    "\n",
    "A simple model for option hedging based on cointegrated vectors is:\n",
    "\n",
    "\\begin{eqnarray}\n",
    "&& \\ln \\left( {\\frac{{S_t^{(i)}}}{{S_{t - 1}^{(i)}}}} \\right) = {r_f} - d_t^{(i)} - \\frac{1}{2}{(\\sigma _t^{(i)})^2} + {\\eta _i}\\sigma _t^{(i)} + z_{t - 1}^{(j)}{\\xi _i} + \\vec \\sigma _t^{(i)} \\cdot \\varepsilon _t^{(i)} \\nonumber\\\\\n",
    "&&{{\\vec \\sigma }_t} = {{\\vec \\beta }_0} + ({{\\vec \\beta }_1} + {{\\vec \\beta }_2}||{{\\vec \\varepsilon }_{t - 1}} - \\vec \\theta |{|^2}) \\cdot \\vec \\sigma _{t - 1}^2\\nonumber\\\\\n",
    "&&{z_t} = \\alpha + \\beta t+ {\\gamma _1}\\ln (S_t^{(1)}) + {\\gamma _2}\\ln (S_t^{(2)})\n",
    "\\end{eqnarray}\n",
    "\n",
    "\n",
    "The inclusion of a *stationary* process ${z_t}$ presupposes that in the long-run, stationarity is eventually achieved. Note also that only one $\\gamma_i$ is independent due to cointegration parametric invariance. The volatility is a simple GARCH(1,1) process. To control for growth and violation of mean reverting behavior, we added a deterministic term to ${z_t}$ process."
   ]
  },
  {
   "cell_type": "markdown",
   "metadata": {},
   "source": [
    "## Conceptual Bird's Eye Review\n",
    "[[go back to the top]](#Table-of-contents)"
   ]
  },
  {
   "cell_type": "markdown",
   "metadata": {},
   "source": [
    "### Vector Error Correction Model VECM\n",
    "\n",
    "The VECM model is given by:\n",
    "\n",
    "\n",
    "$$\\,\\left[ {\\begin{array}{*{20}{c}}\n",
    "{\\Delta {y_{1,t}}}\\\\\n",
    "{\\Delta {y_{2t}}}\n",
    "\\end{array}} \\right] = \\left[ {\\begin{array}{*{20}{c}}\n",
    "{{\\gamma _{01}}}\\\\\n",
    "{{\\gamma _{02}}}\n",
    "\\end{array}} \\right] + \\left[ {\\begin{array}{*{20}{c}}\n",
    "{{\\alpha _1}}\\\\\n",
    "{{\\alpha _2}}\n",
    "\\end{array}} \\right]\\left[ {{\\beta _0}\\,\\,\\,{\\beta _1}\\,\\,\\,{\\beta _2}} \\right]\\left[ {\\begin{array}{*{20}{c}}\n",
    "1\\\\\n",
    "{{y_{1,t - 1}}}\\\\\n",
    "{{y_{2,t - 1}}}\n",
    "\\end{array}} \\right] + \\left[ {\\begin{array}{*{20}{c}}\n",
    "{{\\gamma _{11}}}&{{\\gamma _{21}}}\\\\\n",
    "{{\\gamma _{12}}}&{{\\gamma _{22}}}\n",
    "\\end{array}} \\right]\\,\\,\\left[ {\\begin{array}{*{20}{c}}\n",
    "{\\Delta {y_{1,t - 1}}}\\\\\n",
    "{\\Delta {y_{2,t - 1}}}\n",
    "\\end{array}} \\right] + \\left[ {\\begin{array}{*{20}{c}}\n",
    "{{\\gamma _{31}}}&{{\\gamma _{41}}}\\\\\n",
    "{{\\gamma _{32}}}&{{\\gamma _{42}}}\n",
    "\\end{array}} \\right]\\,\\,\\left[ {\\begin{array}{*{20}{c}}\n",
    "{\\Delta {y_{1,t - 2}}}\\\\\n",
    "{\\Delta {y_{2,t - 2}}}\n",
    "\\end{array}} \\right] + \\left[ {\\begin{array}{*{20}{c}}\n",
    "{{\\nu _{1,t}}}\\\\\n",
    "{{\\nu _{2,t}}}\n",
    "\\end{array}} \\right]$$\n",
    "\n",
    "where we ${y_{1,t}}$ is the SPY and ${y_{1,t}}$ is the SHY. If both series are cointegrated, this information is included in the model via the error correction terms:\n",
    "\n",
    "$${\\alpha _i}({\\beta _0}\\, + {\\beta _1}{y_{1,t - 1}}\\, + {\\beta _2}{y_{2,t - 1}}),\\,\\,\\,\\,\\,i = 1,2$$\n",
    "\n",
    "where \n",
    "\n",
    "$$({\\beta _0}\\, + {\\beta _1}{y_{1,t - 1}}\\, + {\\beta _2}{y_{2,t - 1}}),\\,\\,\\,\\,\\,i = 1,2$$\n",
    "\n",
    "corresponds to the long-run. If in the long-run the last equation is zero we have the folowing relation:\n",
    "\n",
    "$$\\,{y_{2,t - 1}} =  - ({\\beta _0}/{\\beta _2})\\, - ({\\beta _1}/{\\beta _2}){y_{1,t - 1}}$$\n",
    "\n",
    "Hence, the $\\beta$s we obtain after fitting the VECM inform us about the equilibrium relationship between the time series. When the two series deviate from equilibrium, the $\\alpha$s \"push them back\".\n",
    "\n",
    "We will choose $y_1$ and $y_2$ to be the following time series:\n",
    "- SPY (the S&P 500 exchange traded fund)\n",
    "- SHY (iShares 1-3 year Treasury Bond) prices. "
   ]
  },
  {
   "cell_type": "code",
   "execution_count": 3,
   "metadata": {},
   "outputs": [],
   "source": [
    "# install.packages('ggplot2')\n",
    "# install.packages('xts')\n",
    "# install.packages('quantmod')\n",
    "# install.packages('broom')\n",
    "# install.packages('tseries')\n",
    "# install.packages(\"kableExtra\")\n",
    "# install.packages(\"knitr\")\n",
    "# install.packages(\"vars\")\n",
    "# install.packages(\"urca\")"
   ]
  },
  {
   "cell_type": "markdown",
   "metadata": {},
   "source": [
    "To load the data we will use the library `quantmod` which contains the function `getSymbols`. \n",
    "\n",
    "From the [documents](https://www.rdocumentation.org/packages/quantmod/versions/0.4-13/topics/getSymbols)\n",
    "\n",
    "> getSymbols is a wrapper to load data from various sources, local or remote.\n",
    "\n",
    "In our case we will load data from Yahoo Finance."
   ]
  },
  {
   "cell_type": "code",
   "execution_count": 2,
   "metadata": {},
   "outputs": [],
   "source": [
    "rm(list=ls()) \n",
    "library(tseries)\n",
    "library(dynlm)\n",
    "library(vars)\n",
    "library(nlWaldTest) \n",
    "library(lmtest)\n",
    "library(broom) \n",
    "library(car)\n",
    "library(sandwich)\n",
    "library(knitr)\n",
    "library(forecast) "
   ]
  },
  {
   "cell_type": "code",
   "execution_count": 4,
   "metadata": {},
   "outputs": [
    {
     "data": {
      "text/html": [
       "<ol class=list-inline>\n",
       "\t<li>'SHY'</li>\n",
       "\t<li>'SPY'</li>\n",
       "</ol>\n"
      ],
      "text/latex": [
       "\\begin{enumerate*}\n",
       "\\item 'SHY'\n",
       "\\item 'SPY'\n",
       "\\end{enumerate*}\n"
      ],
      "text/markdown": [
       "1. 'SHY'\n",
       "2. 'SPY'\n",
       "\n",
       "\n"
      ],
      "text/plain": [
       "[1] \"SHY\" \"SPY\""
      ]
     },
     "metadata": {},
     "output_type": "display_data"
    }
   ],
   "source": [
    "library(quantmod)\n",
    "setSymbolLookup(SHY='yahoo',SPY='yahoo')\n",
    "getSymbols(c('SHY','SPY'))  "
   ]
  },
  {
   "cell_type": "markdown",
   "metadata": {},
   "source": [
    "Defining `y1` and `y2` as the adjusted prices and joining them:"
   ]
  },
  {
   "cell_type": "code",
   "execution_count": null,
   "metadata": {},
   "outputs": [],
   "source": [
    "y1 <- SPY$SPY.Adjusted\n",
    "y2 <- SHY$SHY.Adjusted\n",
    "time_series <- cbind(y1, y2)\n",
    "print('Our dataframe is:')\n",
    "colnames(time_series) <- c('SHY', 'SPY') "
   ]
  },
  {
   "cell_type": "code",
   "execution_count": 6,
   "metadata": {},
   "outputs": [],
   "source": [
    "write.csv(time_series, 'time_series.csv')"
   ]
  },
  {
   "cell_type": "markdown",
   "metadata": {},
   "source": [
    "We can check for stationary of the series individually:"
   ]
  },
  {
   "cell_type": "code",
   "execution_count": 58,
   "metadata": {},
   "outputs": [
    {
     "data": {
      "text/plain": [
       "\n",
       "\tAugmented Dickey-Fuller Test\n",
       "\n",
       "data:  time_series$SHY\n",
       "Dickey-Fuller = -1.5363, Lag order = 14, p-value = 0.7747\n",
       "alternative hypothesis: stationary\n"
      ]
     },
     "metadata": {},
     "output_type": "display_data"
    },
    {
     "data": {
      "text/plain": [
       "\n",
       "\tAugmented Dickey-Fuller Test\n",
       "\n",
       "data:  time_series$SPY\n",
       "Dickey-Fuller = -3.7478, Lag order = 14, p-value = 0.02158\n",
       "alternative hypothesis: stationary\n"
      ]
     },
     "metadata": {},
     "output_type": "display_data"
    }
   ],
   "source": [
    "adf.test(time_series$SHY)\n",
    "adf.test(time_series$SPY)"
   ]
  },
  {
   "cell_type": "code",
   "execution_count": 57,
   "metadata": {},
   "outputs": [
    {
     "name": "stdout",
     "output_type": "stream",
     "text": [
      "[1] \"p-values:\"\n"
     ]
    },
    {
     "data": {
      "text/html": [
       "0.774665887814869"
      ],
      "text/latex": [
       "0.774665887814869"
      ],
      "text/markdown": [
       "0.774665887814869"
      ],
      "text/plain": [
       "[1] 0.7746659"
      ]
     },
     "metadata": {},
     "output_type": "display_data"
    },
    {
     "data": {
      "text/html": [
       "0.0215848302364735"
      ],
      "text/latex": [
       "0.0215848302364735"
      ],
      "text/markdown": [
       "0.0215848302364735"
      ],
      "text/plain": [
       "[1] 0.02158483"
      ]
     },
     "metadata": {},
     "output_type": "display_data"
    }
   ],
   "source": [
    "print('p-values:')\n",
    "adf.test(time_series$SHY)$p.value\n",
    "adf.test(time_series$SPY)$p.value"
   ]
  },
  {
   "cell_type": "code",
   "execution_count": 46,
   "metadata": {},
   "outputs": [
    {
     "data": {
      "image/png": "[encoded data removed]",
      "text/plain": [
       "plot without title"
      ]
     },
     "metadata": {},
     "output_type": "display_data"
    }
   ],
   "source": [
    "par(mfrow = c(2,1))\n",
    "plot.ts(time_series$SHY,\n",
    "        type='l')\n",
    "plot.ts(time_series$SPY, \n",
    "        type='l')"
   ]
  },
  {
   "cell_type": "markdown",
   "metadata": {},
   "source": [
    "### Johansen Test for Cointegration"
   ]
  },
  {
   "cell_type": "markdown",
   "metadata": {},
   "source": [
    "The most well known cointegration test is the Johansen test which estimates the VECM parameters and determines whether the determinant of \n",
    "\n",
    "$$\\alpha \\beta = \\left[ {\\begin{array}{*{20}{c}}\n",
    "{{\\alpha _1}}\\\\\n",
    "{{\\alpha _2}}\n",
    "\\end{array}} \\right]\\left[ {{\\beta _0}\\,\\,\\,{\\beta _1}\\,\\,\\,{\\beta _2}} \\right]$$\n",
    "\n",
    "\n",
    "is zero or not. If $\\alpha \\beta\\neq 0$, the series are cointegrated."
   ]
  },
  {
   "cell_type": "code",
   "execution_count": 31,
   "metadata": {},
   "outputs": [],
   "source": [
    "library(urca)"
   ]
  },
  {
   "cell_type": "code",
   "execution_count": 32,
   "metadata": {},
   "outputs": [
    {
     "data": {
      "text/plain": [
       "\n",
       "###################### \n",
       "# Johansen-Procedure # \n",
       "###################### \n",
       "\n",
       "Test type: trace statistic , without linear trend and constant in cointegration \n",
       "\n",
       "Eigenvalues (lambda):\n",
       "[1] 2.248927e-02 3.620157e-03 4.437196e-18\n",
       "\n",
       "Values of teststatistic and critical values of test:\n",
       "\n",
       "          test 10pct  5pct  1pct\n",
       "r <= 1 | 10.65  7.52  9.24 12.97\n",
       "r = 0  | 77.46 17.85 19.96 24.60\n",
       "\n",
       "Eigenvectors, normalised to first column:\n",
       "(These are the cointegration relations)\n",
       "\n",
       "             SHY.l3      SPY.l3  constant\n",
       "SHY.l3      1.00000      1.0000   1.00000\n",
       "SPY.l3    -84.59851    163.3147  -8.78908\n",
       "constant 6927.78683 -12622.5372 543.67420\n",
       "\n",
       "Weights W:\n",
       "(This is the loading matrix)\n",
       "\n",
       "            SHY.l3        SPY.l3      constant\n",
       "SHY.d 2.147229e-05  1.049741e-04 -1.531138e-17\n",
       "SPY.d 2.088562e-05 -1.870590e-06  1.148836e-17\n"
      ]
     },
     "metadata": {},
     "output_type": "display_data"
    }
   ],
   "source": [
    "johansentest <- ca.jo(time_series, type = \"trace\", ecdet = \"const\", K = 3)\n",
    "summary(johansentest)"
   ]
  },
  {
   "cell_type": "markdown",
   "metadata": {},
   "source": [
    "The lines $r=0$ and $r\\le 1$ are the results of the test. More specifically:\n",
    "\n",
    "- line $r=0$: these are the results of the hypothesis test with null hypothesis $r=0$. More concretely, this test checks if the matrix has zero rank. In the present case the hypothesis is rejected since the test variable is well above the $1\\%$ value;\n",
    "- line $r\\le 1$: these are the results of the hypothesis test $r\\le 1$. Now since the test value is below the $1\\%$ value value we fail to reject the null hypothesis. Hence we conclude that the rank of $\\alpha \\beta$ is 1 and therefore the two series are cointegrated and we can use the VECM model.\n",
    "\n",
    "Note that if hypotheses were reject we would have $r=2$ corresponding to two stationary series."
   ]
  },
  {
   "cell_type": "markdown",
   "metadata": {},
   "source": [
    "### Fitting the VECM"
   ]
  },
  {
   "cell_type": "code",
   "execution_count": 37,
   "metadata": {},
   "outputs": [
    {
     "data": {
      "text/plain": [
       "$rlm\n",
       "\n",
       "Call:\n",
       "lm(formula = substitute(form1), data = data.mat)\n",
       "\n",
       "Coefficients:\n",
       "         SHY.d       SPY.d     \n",
       "ect1      2.147e-05   2.089e-05\n",
       "SHY.dl1  -4.754e-02   6.806e-04\n",
       "SPY.dl1   5.658e-01  -1.192e-01\n",
       "SHY.dl2  -6.092e-02   4.440e-04\n",
       "SPY.dl2   3.243e-02  -6.055e-02\n",
       "\n",
       "\n",
       "$beta\n",
       "               ect1\n",
       "SHY.l3      1.00000\n",
       "SPY.l3    -84.59851\n",
       "constant 6927.78683\n"
      ]
     },
     "metadata": {},
     "output_type": "display_data"
    }
   ],
   "source": [
    "t <- cajorls(johansentest, r = 1)\n",
    "t"
   ]
  },
  {
   "cell_type": "markdown",
   "metadata": {},
   "source": [
    "The $\\beta$ coefficients are given above. The $\\gamma$ coefficients are above the $beta$s in the output."
   ]
  },
  {
   "cell_type": "code",
   "execution_count": null,
   "metadata": {},
   "outputs": [],
   "source": []
  }
 ],
 "metadata": {
  "kernelspec": {
   "display_name": "R",
   "language": "R",
   "name": "ir"
  },
  "language_info": {
   "codemirror_mode": "r",
   "file_extension": ".r",
   "mimetype": "text/x-r-source",
   "name": "R",
   "pygments_lexer": "r",
   "version": "3.5.0"
  }
 },
 "nbformat": 4,
 "nbformat_minor": 2
}
