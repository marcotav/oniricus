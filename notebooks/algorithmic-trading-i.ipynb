{
 "cells": [
  {
   "cell_type": "markdown",
   "metadata": {},
   "source": [
    "<br>\n",
    "<img align=\"center\" width=\"400\" src=\"oft.png\">\n",
    "<br>"
   ]
  },
  {
   "cell_type": "markdown",
   "metadata": {},
   "source": [
    "# Algorithmic Trading\n",
    "\n",
    "<img align=\"left\" width=\"80\" height=\"200\" src=\"https://img.shields.io/badge/python-v3.6-blue.svg\">\n",
    "<br>"
   ]
  },
  {
   "cell_type": "markdown",
   "metadata": {},
   "source": [
    "## Notebook by [Marco Tavora](https://marcotavora.me/)\n",
    "\n",
    "### Table of contents\n",
    "\n",
    "1. [Summary](#Summary)\n",
    "1. [Definitions](#Definitions)\n",
    "3. [Modules](#Modules)\n",
    "4. [Time Series](#Time-Series)\n",
    "5. [Strategy](#Strategy)\n",
    "6. [Moving Windows](#Moving-Windows)"
   ]
  },
  {
   "cell_type": "markdown",
   "metadata": {},
   "source": [
    "### Summary \n",
    "[[go back to the top]](#Table-of-contents)\n",
    "\n",
    "I will briefly describe:\n",
    "- How to build a [trend trading](https://en.wikipedia.org/wiki/Trend_following) strategy\n",
    "- How to backtest it \n",
    "- How we can optimize it \n",
    "\n",
    "### Definitions \n",
    "[[go back to the top]](#Table-of-contents)\n",
    "\n",
    "\n",
    "Trend trading can be [defined as](https://en.wikipedia.org/wiki/Trend_following):\n",
    "\n",
    "> ... a trading strategy according to which one should buy an asset when its price trend goes up, and sell when its trend goes down, expecting price movements to continue.\n",
    "\n",
    "Again borrowing from [Wikipedia](#https://en.wikipedia.org/wiki/Backtesting), backtesting:\n",
    "> ... seeks to estimate the performance of a strategy or model if it had been employed during a past period. This requires simulating past conditions with sufficient detail, making one limitation of backtesting the need for detailed historical data. "
   ]
  },
  {
   "cell_type": "markdown",
   "metadata": {},
   "source": [
    "### Modules \n",
    "[[go back to the top]](#Table-of-contents)"
   ]
  },
  {
   "cell_type": "code",
   "execution_count": 43,
   "metadata": {},
   "outputs": [
    {
     "name": "stdout",
     "output_type": "stream",
     "text": [
      "0.4.1\n"
     ]
    }
   ],
   "source": [
    "import pandas as pd\n",
    "import numpy as np\n",
    "import matplotlib.pyplot as plt\n",
    "import datetime\n",
    "import quandl\n",
    "import pandas_datareader as pdr\n",
    "pd.core.common.is_list_like = pd.api.types.is_list_like\n",
    "print(pdr.__version__)  # Make sure it is '0.4.1'.\n",
    "from pandas_datareader import data as pdr\n",
    "import fix_yahoo_finance"
   ]
  },
  {
   "cell_type": "markdown",
   "metadata": {},
   "source": [
    "### Data from `yahoo` or `Quandl`\n",
    "[[go back to the top]](#Table-of-contents)"
   ]
  },
  {
   "cell_type": "code",
   "execution_count": 40,
   "metadata": {},
   "outputs": [
    {
     "data": {
      "text/html": [
       "<div>\n",
       "<style scoped>\n",
       "    .dataframe tbody tr th:only-of-type {\n",
       "        vertical-align: middle;\n",
       "    }\n",
       "\n",
       "    .dataframe tbody tr th {\n",
       "        vertical-align: top;\n",
       "    }\n",
       "\n",
       "    .dataframe thead th {\n",
       "        text-align: right;\n",
       "    }\n",
       "</style>\n",
       "<table border=\"1\" class=\"dataframe\">\n",
       "  <thead>\n",
       "    <tr style=\"text-align: right;\">\n",
       "      <th></th>\n",
       "      <th>Open</th>\n",
       "      <th>High</th>\n",
       "      <th>Low</th>\n",
       "      <th>Close</th>\n",
       "      <th>Adj Close</th>\n",
       "      <th>Volume</th>\n",
       "    </tr>\n",
       "    <tr>\n",
       "      <th>Date</th>\n",
       "      <th></th>\n",
       "      <th></th>\n",
       "      <th></th>\n",
       "      <th></th>\n",
       "      <th></th>\n",
       "      <th></th>\n",
       "    </tr>\n",
       "  </thead>\n",
       "  <tbody>\n",
       "    <tr>\n",
       "      <th>2006-10-02</th>\n",
       "      <td>10.728572</td>\n",
       "      <td>10.838572</td>\n",
       "      <td>10.614285</td>\n",
       "      <td>10.694285</td>\n",
       "      <td>9.477872</td>\n",
       "      <td>178159800</td>\n",
       "    </tr>\n",
       "    <tr>\n",
       "      <th>2006-10-03</th>\n",
       "      <td>10.635715</td>\n",
       "      <td>10.707143</td>\n",
       "      <td>10.455714</td>\n",
       "      <td>10.582857</td>\n",
       "      <td>9.379119</td>\n",
       "      <td>197677200</td>\n",
       "    </tr>\n",
       "    <tr>\n",
       "      <th>2006-10-04</th>\n",
       "      <td>10.585714</td>\n",
       "      <td>10.780000</td>\n",
       "      <td>10.451428</td>\n",
       "      <td>10.768572</td>\n",
       "      <td>9.543709</td>\n",
       "      <td>207270700</td>\n",
       "    </tr>\n",
       "    <tr>\n",
       "      <th>2006-10-05</th>\n",
       "      <td>10.647142</td>\n",
       "      <td>10.880000</td>\n",
       "      <td>10.590000</td>\n",
       "      <td>10.690000</td>\n",
       "      <td>9.474073</td>\n",
       "      <td>170970800</td>\n",
       "    </tr>\n",
       "    <tr>\n",
       "      <th>2006-10-06</th>\n",
       "      <td>10.631429</td>\n",
       "      <td>10.720000</td>\n",
       "      <td>10.544286</td>\n",
       "      <td>10.602858</td>\n",
       "      <td>9.396842</td>\n",
       "      <td>116739700</td>\n",
       "    </tr>\n",
       "  </tbody>\n",
       "</table>\n",
       "</div>"
      ],
      "text/plain": [
       "                 Open       High        Low      Close  Adj Close     Volume\n",
       "Date                                                                        \n",
       "2006-10-02  10.728572  10.838572  10.614285  10.694285   9.477872  178159800\n",
       "2006-10-03  10.635715  10.707143  10.455714  10.582857   9.379119  197677200\n",
       "2006-10-04  10.585714  10.780000  10.451428  10.768572   9.543709  207270700\n",
       "2006-10-05  10.647142  10.880000  10.590000  10.690000   9.474073  170970800\n",
       "2006-10-06  10.631429  10.720000  10.544286  10.602858   9.396842  116739700"
      ]
     },
     "execution_count": 40,
     "metadata": {},
     "output_type": "execute_result"
    }
   ],
   "source": [
    "start, end =datetime.datetime(2006, 10, 1), datetime.datetime(2012, 1, 1)\n",
    "apple = pdr.get_data_yahoo('AAPL', start=start, end=end)\n",
    "apple.head()"
   ]
  },
  {
   "cell_type": "code",
   "execution_count": 41,
   "metadata": {},
   "outputs": [
    {
     "data": {
      "text/html": [
       "<div>\n",
       "<style scoped>\n",
       "    .dataframe tbody tr th:only-of-type {\n",
       "        vertical-align: middle;\n",
       "    }\n",
       "\n",
       "    .dataframe tbody tr th {\n",
       "        vertical-align: top;\n",
       "    }\n",
       "\n",
       "    .dataframe thead th {\n",
       "        text-align: right;\n",
       "    }\n",
       "</style>\n",
       "<table border=\"1\" class=\"dataframe\">\n",
       "  <thead>\n",
       "    <tr style=\"text-align: right;\">\n",
       "      <th></th>\n",
       "      <th>open</th>\n",
       "      <th>high</th>\n",
       "      <th>low</th>\n",
       "      <th>close</th>\n",
       "      <th>volume</th>\n",
       "      <th>ex-dividend</th>\n",
       "      <th>split_ratio</th>\n",
       "      <th>adj_open</th>\n",
       "      <th>adj_high</th>\n",
       "      <th>adj_low</th>\n",
       "      <th>adj_close</th>\n",
       "      <th>adj_volume</th>\n",
       "    </tr>\n",
       "    <tr>\n",
       "      <th>Date</th>\n",
       "      <th></th>\n",
       "      <th></th>\n",
       "      <th></th>\n",
       "      <th></th>\n",
       "      <th></th>\n",
       "      <th></th>\n",
       "      <th></th>\n",
       "      <th></th>\n",
       "      <th></th>\n",
       "      <th></th>\n",
       "      <th></th>\n",
       "      <th></th>\n",
       "    </tr>\n",
       "  </thead>\n",
       "  <tbody>\n",
       "    <tr>\n",
       "      <th>2006-10-02</th>\n",
       "      <td>75.10</td>\n",
       "      <td>75.870</td>\n",
       "      <td>74.30</td>\n",
       "      <td>74.86</td>\n",
       "      <td>25451400.0</td>\n",
       "      <td>0.0</td>\n",
       "      <td>1.0</td>\n",
       "      <td>9.651397</td>\n",
       "      <td>9.750352</td>\n",
       "      <td>9.548586</td>\n",
       "      <td>9.620553</td>\n",
       "      <td>178159800.0</td>\n",
       "    </tr>\n",
       "    <tr>\n",
       "      <th>2006-10-03</th>\n",
       "      <td>74.45</td>\n",
       "      <td>74.950</td>\n",
       "      <td>73.19</td>\n",
       "      <td>74.07</td>\n",
       "      <td>28239600.0</td>\n",
       "      <td>0.0</td>\n",
       "      <td>1.0</td>\n",
       "      <td>9.567863</td>\n",
       "      <td>9.632120</td>\n",
       "      <td>9.405935</td>\n",
       "      <td>9.519027</td>\n",
       "      <td>197677200.0</td>\n",
       "    </tr>\n",
       "    <tr>\n",
       "      <th>2006-10-04</th>\n",
       "      <td>74.10</td>\n",
       "      <td>75.462</td>\n",
       "      <td>73.16</td>\n",
       "      <td>75.38</td>\n",
       "      <td>29610100.0</td>\n",
       "      <td>0.0</td>\n",
       "      <td>1.0</td>\n",
       "      <td>9.522883</td>\n",
       "      <td>9.697919</td>\n",
       "      <td>9.402080</td>\n",
       "      <td>9.687381</td>\n",
       "      <td>207270700.0</td>\n",
       "    </tr>\n",
       "    <tr>\n",
       "      <th>2006-10-05</th>\n",
       "      <td>74.53</td>\n",
       "      <td>76.160</td>\n",
       "      <td>74.13</td>\n",
       "      <td>74.83</td>\n",
       "      <td>24424400.0</td>\n",
       "      <td>0.0</td>\n",
       "      <td>1.0</td>\n",
       "      <td>9.578144</td>\n",
       "      <td>9.787621</td>\n",
       "      <td>9.526738</td>\n",
       "      <td>9.616698</td>\n",
       "      <td>170970800.0</td>\n",
       "    </tr>\n",
       "    <tr>\n",
       "      <th>2006-10-06</th>\n",
       "      <td>74.42</td>\n",
       "      <td>75.040</td>\n",
       "      <td>73.81</td>\n",
       "      <td>74.22</td>\n",
       "      <td>16677100.0</td>\n",
       "      <td>0.0</td>\n",
       "      <td>1.0</td>\n",
       "      <td>9.564007</td>\n",
       "      <td>9.643686</td>\n",
       "      <td>9.485614</td>\n",
       "      <td>9.538304</td>\n",
       "      <td>116739700.0</td>\n",
       "    </tr>\n",
       "  </tbody>\n",
       "</table>\n",
       "</div>"
      ],
      "text/plain": [
       "             open    high    low  close      volume  ex-dividend  split_ratio  \\\n",
       "Date                                                                            \n",
       "2006-10-02  75.10  75.870  74.30  74.86  25451400.0          0.0          1.0   \n",
       "2006-10-03  74.45  74.950  73.19  74.07  28239600.0          0.0          1.0   \n",
       "2006-10-04  74.10  75.462  73.16  75.38  29610100.0          0.0          1.0   \n",
       "2006-10-05  74.53  76.160  74.13  74.83  24424400.0          0.0          1.0   \n",
       "2006-10-06  74.42  75.040  73.81  74.22  16677100.0          0.0          1.0   \n",
       "\n",
       "            adj_open  adj_high   adj_low  adj_close   adj_volume  \n",
       "Date                                                              \n",
       "2006-10-02  9.651397  9.750352  9.548586   9.620553  178159800.0  \n",
       "2006-10-03  9.567863  9.632120  9.405935   9.519027  197677200.0  \n",
       "2006-10-04  9.522883  9.697919  9.402080   9.687381  207270700.0  \n",
       "2006-10-05  9.578144  9.787621  9.526738   9.616698  170970800.0  \n",
       "2006-10-06  9.564007  9.643686  9.485614   9.538304  116739700.0  "
      ]
     },
     "execution_count": 41,
     "metadata": {},
     "output_type": "execute_result"
    }
   ],
   "source": [
    "start, end =\"2006-10-01\", \"2012-01-01\"\n",
    "apple = quandl.get(\"WIKI/AAPL\", start_date=start, end_date=end)\n",
    "apple.columns = [el.lower().replace('.', '').replace(' ', '_') for el in apple.columns]\n",
    "apple.head()"
   ]
  },
  {
   "cell_type": "markdown",
   "metadata": {},
   "source": [
    "### New Column\n",
    "[[go back to the top]](#Table-of-contents)"
   ]
  },
  {
   "cell_type": "code",
   "execution_count": 42,
   "metadata": {},
   "outputs": [
    {
     "data": {
      "image/png": "[encoded data removed]",
      "text/plain": [
       "<Figure size 720x360 with 1 Axes>"
      ]
     },
     "metadata": {
      "needs_background": "light"
     },
     "output_type": "display_data"
    }
   ],
   "source": [
    "plt.rcParams['figure.figsize'] = 10, 5\n",
    "apple['close'].plot(grid=False, rot=90);\n",
    "plt.show();"
   ]
  },
  {
   "cell_type": "markdown",
   "metadata": {},
   "source": [
    "### Strategy\n",
    "[[go back to the top]](#Table-of-contents)\n",
    "\n",
    "From [here](https://github.com/ranaroussi/fix-yahoo-finance) we get:"
   ]
  },
  {
   "cell_type": "code",
   "execution_count": 45,
   "metadata": {},
   "outputs": [],
   "source": [
    "import fix_yahoo_finance as yf\n",
    "yf.pdr_override() # <== that's all it takes :-)"
   ]
  },
  {
   "cell_type": "markdown",
   "metadata": {},
   "source": [
    "The strategy consists in:\n",
    "- set the sizes of the short moving window `smw` and long moving window `lmw`\n",
    "- Create an empty `DataFrame` for signals, called `signals`\n",
    "- Fill the columns of `signals` with the short SMA and LMA\n",
    "- Fill the `signal` column (starting from row `short_window`), inserting ones when the value of column `short_ma` is larger than `long_ma`\n",
    "- Create a column of positions"
   ]
  },
  {
   "cell_type": "code",
   "execution_count": 87,
   "metadata": {},
   "outputs": [
    {
     "data": {
      "text/html": [
       "<div>\n",
       "<style scoped>\n",
       "    .dataframe tbody tr th:only-of-type {\n",
       "        vertical-align: middle;\n",
       "    }\n",
       "\n",
       "    .dataframe tbody tr th {\n",
       "        vertical-align: top;\n",
       "    }\n",
       "\n",
       "    .dataframe thead th {\n",
       "        text-align: right;\n",
       "    }\n",
       "</style>\n",
       "<table border=\"1\" class=\"dataframe\">\n",
       "  <thead>\n",
       "    <tr style=\"text-align: right;\">\n",
       "      <th></th>\n",
       "      <th>short_ma</th>\n",
       "      <th>long_ma</th>\n",
       "      <th>signal</th>\n",
       "      <th>positions</th>\n",
       "    </tr>\n",
       "    <tr>\n",
       "      <th>Date</th>\n",
       "      <th></th>\n",
       "      <th></th>\n",
       "      <th></th>\n",
       "      <th></th>\n",
       "    </tr>\n",
       "  </thead>\n",
       "  <tbody>\n",
       "    <tr>\n",
       "      <th>2006-10-02</th>\n",
       "      <td>74.860</td>\n",
       "      <td>74.860</td>\n",
       "      <td>0.0</td>\n",
       "      <td>NaN</td>\n",
       "    </tr>\n",
       "    <tr>\n",
       "      <th>2006-10-03</th>\n",
       "      <td>74.465</td>\n",
       "      <td>74.465</td>\n",
       "      <td>0.0</td>\n",
       "      <td>0.0</td>\n",
       "    </tr>\n",
       "    <tr>\n",
       "      <th>2006-10-04</th>\n",
       "      <td>74.770</td>\n",
       "      <td>74.770</td>\n",
       "      <td>0.0</td>\n",
       "      <td>0.0</td>\n",
       "    </tr>\n",
       "    <tr>\n",
       "      <th>2006-10-05</th>\n",
       "      <td>74.785</td>\n",
       "      <td>74.785</td>\n",
       "      <td>0.0</td>\n",
       "      <td>0.0</td>\n",
       "    </tr>\n",
       "    <tr>\n",
       "      <th>2006-10-06</th>\n",
       "      <td>74.672</td>\n",
       "      <td>74.672</td>\n",
       "      <td>0.0</td>\n",
       "      <td>0.0</td>\n",
       "    </tr>\n",
       "  </tbody>\n",
       "</table>\n",
       "</div>"
      ],
      "text/plain": [
       "            short_ma  long_ma  signal  positions\n",
       "Date                                            \n",
       "2006-10-02    74.860   74.860     0.0        NaN\n",
       "2006-10-03    74.465   74.465     0.0        0.0\n",
       "2006-10-04    74.770   74.770     0.0        0.0\n",
       "2006-10-05    74.785   74.785     0.0        0.0\n",
       "2006-10-06    74.672   74.672     0.0        0.0"
      ]
     },
     "execution_count": 87,
     "metadata": {},
     "output_type": "execute_result"
    },
    {
     "data": {
      "text/html": [
       "<div>\n",
       "<style scoped>\n",
       "    .dataframe tbody tr th:only-of-type {\n",
       "        vertical-align: middle;\n",
       "    }\n",
       "\n",
       "    .dataframe tbody tr th {\n",
       "        vertical-align: top;\n",
       "    }\n",
       "\n",
       "    .dataframe thead th {\n",
       "        text-align: right;\n",
       "    }\n",
       "</style>\n",
       "<table border=\"1\" class=\"dataframe\">\n",
       "  <thead>\n",
       "    <tr style=\"text-align: right;\">\n",
       "      <th></th>\n",
       "      <th>short_ma</th>\n",
       "      <th>long_ma</th>\n",
       "      <th>signal</th>\n",
       "      <th>positions</th>\n",
       "    </tr>\n",
       "    <tr>\n",
       "      <th>Date</th>\n",
       "      <th></th>\n",
       "      <th></th>\n",
       "      <th></th>\n",
       "      <th></th>\n",
       "    </tr>\n",
       "  </thead>\n",
       "  <tbody>\n",
       "    <tr>\n",
       "      <th>2011-12-23</th>\n",
       "      <td>388.077375</td>\n",
       "      <td>387.84865</td>\n",
       "      <td>1.0</td>\n",
       "      <td>0.0</td>\n",
       "    </tr>\n",
       "    <tr>\n",
       "      <th>2011-12-27</th>\n",
       "      <td>388.116875</td>\n",
       "      <td>388.14025</td>\n",
       "      <td>0.0</td>\n",
       "      <td>-1.0</td>\n",
       "    </tr>\n",
       "    <tr>\n",
       "      <th>2011-12-28</th>\n",
       "      <td>388.063375</td>\n",
       "      <td>388.43045</td>\n",
       "      <td>0.0</td>\n",
       "      <td>0.0</td>\n",
       "    </tr>\n",
       "    <tr>\n",
       "      <th>2011-12-29</th>\n",
       "      <td>388.278625</td>\n",
       "      <td>388.94955</td>\n",
       "      <td>0.0</td>\n",
       "      <td>0.0</td>\n",
       "    </tr>\n",
       "    <tr>\n",
       "      <th>2011-12-30</th>\n",
       "      <td>388.468375</td>\n",
       "      <td>389.25945</td>\n",
       "      <td>0.0</td>\n",
       "      <td>0.0</td>\n",
       "    </tr>\n",
       "  </tbody>\n",
       "</table>\n",
       "</div>"
      ],
      "text/plain": [
       "              short_ma    long_ma  signal  positions\n",
       "Date                                                \n",
       "2011-12-23  388.077375  387.84865     1.0        0.0\n",
       "2011-12-27  388.116875  388.14025     0.0       -1.0\n",
       "2011-12-28  388.063375  388.43045     0.0        0.0\n",
       "2011-12-29  388.278625  388.94955     0.0        0.0\n",
       "2011-12-30  388.468375  389.25945     0.0        0.0"
      ]
     },
     "execution_count": 87,
     "metadata": {},
     "output_type": "execute_result"
    }
   ],
   "source": [
    "smw, lmw = 40, 100\n",
    "signals = pd.DataFrame(index=apple.index, columns = ['short_ma','long_ma' ])\n",
    "signals['signal'], signals['short_ma'], signals['long_ma'] = 0.0, 0.0, 0.0\n",
    "\n",
    "signals['short_ma'] = apple['close'].rolling(window=smw,\n",
    "                                             min_periods=1, \n",
    "                                             center=False).mean()\n",
    "\n",
    "signals['long_ma'] = apple['close'].rolling(window=lmw, \n",
    "                                            min_periods=1, \n",
    "                                            center=False).mean()\n",
    "signals['signal'][smw:] = np.where(signals['short_ma'][smw:] \n",
    "                                            > signals['long_ma'][smw:], 1.0, 0.0)   \n",
    "\n",
    "\n",
    "signals['positions'] = signals['signal'].diff()\n",
    "\n",
    "signals.head()\n",
    "signals.tail()"
   ]
  },
  {
   "cell_type": "code",
   "execution_count": 119,
   "metadata": {},
   "outputs": [
    {
     "data": {
      "image/png": "[encoded data removed]",
      "text/plain": [
       "<Figure size 576x288 with 1 Axes>"
      ]
     },
     "metadata": {
      "needs_background": "light"
     },
     "output_type": "display_data"
    }
   ],
   "source": [
    "plt.rcParams['figure.figsize'] = 8, 4\n",
    "fig = plt.figure();\n",
    "ax1 = fig.add_subplot(111, ylabel='Price');\n",
    "apple['close'].plot(ax=ax1, color='r', lw=2.);\n",
    "signals[['short_ma', 'long_ma']].plot(ax=ax1, lw=2.);\n",
    "ax1.plot(signals.loc[signals.positions == 1.0].index, \n",
    "         signals.short_ma[signals.positions == 1.0],\n",
    "         '^', markersize=10, color='b');\n",
    "ax1.plot(signals.loc[signals.positions == -1.0].index, \n",
    "         signals.short_ma[signals.positions == -1.0],\n",
    "         'v', markersize=10, color='black');\n",
    "plt.show();"
   ]
  },
  {
   "cell_type": "markdown",
   "metadata": {},
   "source": [
    "### Backtesting\n",
    "[[go back to the top]](#Table-of-contents)"
   ]
  },
  {
   "cell_type": "markdown",
   "metadata": {},
   "source": [
    "Steps:\n",
    "- Set the initial capital\n",
    "- Create a DataFrame `positions`\n",
    "- Buy a 100 shares\n",
    "- Initialize the portfolio with value owned   \n",
    "- Store the difference in shares owned \n",
    "- Add `holdings` to portfolio\n",
    "- Add `cash` to portfolio\n",
    "- Add `total` to portfolio\n",
    "- Add `returns` to portfolio\n",
    "- Plot the equity curve in dollars\n",
    "- Plot the \"buy\" trades against the equity curve\n",
    "- Plot the \"sell\" trades against the equity curve"
   ]
  },
  {
   "cell_type": "code",
   "execution_count": 123,
   "metadata": {},
   "outputs": [
    {
     "data": {
      "text/html": [
       "<div>\n",
       "<style scoped>\n",
       "    .dataframe tbody tr th:only-of-type {\n",
       "        vertical-align: middle;\n",
       "    }\n",
       "\n",
       "    .dataframe tbody tr th {\n",
       "        vertical-align: top;\n",
       "    }\n",
       "\n",
       "    .dataframe thead th {\n",
       "        text-align: right;\n",
       "    }\n",
       "</style>\n",
       "<table border=\"1\" class=\"dataframe\">\n",
       "  <thead>\n",
       "    <tr style=\"text-align: right;\">\n",
       "      <th></th>\n",
       "      <th>AAPL</th>\n",
       "      <th>holdings</th>\n",
       "      <th>cash</th>\n",
       "      <th>total</th>\n",
       "      <th>returns</th>\n",
       "    </tr>\n",
       "    <tr>\n",
       "      <th>Date</th>\n",
       "      <th></th>\n",
       "      <th></th>\n",
       "      <th></th>\n",
       "      <th></th>\n",
       "      <th></th>\n",
       "    </tr>\n",
       "  </thead>\n",
       "  <tbody>\n",
       "    <tr>\n",
       "      <th>2006-10-02</th>\n",
       "      <td>0.0</td>\n",
       "      <td>0.0</td>\n",
       "      <td>2000000.0</td>\n",
       "      <td>2000000.0</td>\n",
       "      <td>NaN</td>\n",
       "    </tr>\n",
       "    <tr>\n",
       "      <th>2006-10-03</th>\n",
       "      <td>0.0</td>\n",
       "      <td>0.0</td>\n",
       "      <td>2000000.0</td>\n",
       "      <td>2000000.0</td>\n",
       "      <td>0.0</td>\n",
       "    </tr>\n",
       "    <tr>\n",
       "      <th>2006-10-04</th>\n",
       "      <td>0.0</td>\n",
       "      <td>0.0</td>\n",
       "      <td>2000000.0</td>\n",
       "      <td>2000000.0</td>\n",
       "      <td>0.0</td>\n",
       "    </tr>\n",
       "    <tr>\n",
       "      <th>2006-10-05</th>\n",
       "      <td>0.0</td>\n",
       "      <td>0.0</td>\n",
       "      <td>2000000.0</td>\n",
       "      <td>2000000.0</td>\n",
       "      <td>0.0</td>\n",
       "    </tr>\n",
       "    <tr>\n",
       "      <th>2006-10-06</th>\n",
       "      <td>0.0</td>\n",
       "      <td>0.0</td>\n",
       "      <td>2000000.0</td>\n",
       "      <td>2000000.0</td>\n",
       "      <td>0.0</td>\n",
       "    </tr>\n",
       "  </tbody>\n",
       "</table>\n",
       "</div>"
      ],
      "text/plain": [
       "            AAPL  holdings       cash      total  returns\n",
       "Date                                                     \n",
       "2006-10-02   0.0       0.0  2000000.0  2000000.0      NaN\n",
       "2006-10-03   0.0       0.0  2000000.0  2000000.0      0.0\n",
       "2006-10-04   0.0       0.0  2000000.0  2000000.0      0.0\n",
       "2006-10-05   0.0       0.0  2000000.0  2000000.0      0.0\n",
       "2006-10-06   0.0       0.0  2000000.0  2000000.0      0.0"
      ]
     },
     "execution_count": 123,
     "metadata": {},
     "output_type": "execute_result"
    }
   ],
   "source": [
    "initial_capital = 2000000.0\n",
    "positions = pd.DataFrame(index=signals.index).fillna(0.0)\n",
    "positions['AAPL'] = 100*signals['signal']   \n",
    "portfolio = positions.multiply(apple['adj_close'], axis=0)\n",
    "pos_diff = positions.diff()\n",
    "portfolio['holdings'] = (positions.multiply(apple['adj_close'], axis=0)).sum(axis=1)\n",
    "portfolio['cash'] = initial_capital - (pos_diff.multiply(apple['adj_close'], axis=0)).sum(axis=1).cumsum()   \n",
    "portfolio['total'] = portfolio['cash'] + portfolio['holdings']\n",
    "portfolio['returns'] = portfolio['total'].pct_change()\n",
    "\n",
    "portfolio.head()"
   ]
  },
  {
   "cell_type": "code",
   "execution_count": 124,
   "metadata": {},
   "outputs": [
    {
     "data": {
      "image/png": "[encoded data removed]",
      "text/plain": [
       "<Figure size 576x288 with 1 Axes>"
      ]
     },
     "metadata": {
      "needs_background": "light"
     },
     "output_type": "display_data"
    }
   ],
   "source": [
    "plt.rcParams['figure.figsize'] = 8, 4\n",
    "fig = plt.figure()\n",
    "ax1 = fig.add_subplot(111, ylabel='Portfolio value')\n",
    "portfolio['total'].plot(ax=ax1, lw=2.)\n",
    "ax1.plot(portfolio.loc[signals.positions == 1.0].index, \n",
    "         portfolio.total[signals.positions == 1.0],\n",
    "         '^', markersize=10, color='m')\n",
    "ax1.plot(portfolio.loc[signals.positions == -1.0].index, \n",
    "         portfolio.total[signals.positions == -1.0],\n",
    "         'v', markersize=10, color='k')\n",
    "plt.show();"
   ]
  },
  {
   "cell_type": "markdown",
   "metadata": {},
   "source": [
    "### Sharpe Ratio, Maximum Drawdown and CAGR\n",
    "[[go back to the top]](#Table-of-contents)"
   ]
  },
  {
   "cell_type": "code",
   "execution_count": 125,
   "metadata": {},
   "outputs": [
    {
     "name": "stdout",
     "output_type": "stream",
     "text": [
      "sharpe_ratio is: 0.72\n"
     ]
    },
    {
     "data": {
      "image/png": "[encoded data removed]",
      "text/plain": [
       "<Figure size 576x288 with 1 Axes>"
      ]
     },
     "metadata": {
      "needs_background": "light"
     },
     "output_type": "display_data"
    }
   ],
   "source": [
    "returns = portfolio['returns']\n",
    "sharpe_ratio = np.sqrt(252)*(returns.mean() / returns.std())\n",
    "print('sharpe_ratio is:',round(sharpe_ratio, 3))\n",
    "\n",
    "window = 252\n",
    "rolling_max = apple['adj_close'].rolling(window, min_periods=1).max()\n",
    "daily_drawdown = apple['adj_close']/rolling_max - 1.0\n",
    "max_daily_drawdown = daily_drawdown.rolling(window, min_periods=1).min()\n",
    "daily_drawdown.plot()\n",
    "max_daily_drawdown.plot()\n",
    "plt.show();"
   ]
  },
  {
   "cell_type": "code",
   "execution_count": 126,
   "metadata": {},
   "outputs": [
    {
     "name": "stdout",
     "output_type": "stream",
     "text": [
      "cagr is: 0.38\n"
     ]
    }
   ],
   "source": [
    "days = (apple.index[-1] - apple.index[0]).days\n",
    "cagr = ((((apple['adj_close'][-1]) / apple['adj_close'][1])) ** (365.0/days)) - 1\n",
    "print('cagr is:', round(cagr, 2))"
   ]
  },
  {
   "cell_type": "code",
   "execution_count": null,
   "metadata": {},
   "outputs": [],
   "source": []
  }
 ],
 "metadata": {
  "kernelspec": {
   "display_name": "Python 3",
   "language": "python",
   "name": "python3"
  },
  "language_info": {
   "codemirror_mode": {
    "name": "ipython",
    "version": 3
   },
   "file_extension": ".py",
   "mimetype": "text/x-python",
   "name": "python",
   "nbconvert_exporter": "python",
   "pygments_lexer": "ipython3",
   "version": "3.6.6"
  },
  "latex_envs": {
   "LaTeX_envs_menu_present": true,
   "autoclose": false,
   "autocomplete": true,
   "bibliofile": "biblio.bib",
   "cite_by": "apalike",
   "current_citInitial": 1,
   "eqLabelWithNumbers": true,
   "eqNumInitial": 1,
   "hotkeys": {
    "equation": "Ctrl-E",
    "itemize": "Ctrl-I"
   },
   "labels_anchors": false,
   "latex_user_defs": false,
   "report_style_numbering": false,
   "user_envs_cfg": false
  }
 },
 "nbformat": 4,
 "nbformat_minor": 2
}
